{
 "cells": [
  {
   "cell_type": "markdown",
   "metadata": {},
   "source": [
    "# Day 3"
   ]
  },
  {
   "cell_type": "code",
   "execution_count": 101,
   "metadata": {},
   "outputs": [],
   "source": [
    "with open('input.txt') as f:\n",
    "    lines = [line.strip() for line in f.readlines()]\n"
   ]
  },
  {
   "cell_type": "markdown",
   "metadata": {},
   "source": [
    "## Part 1"
   ]
  },
  {
   "cell_type": "code",
   "execution_count": 102,
   "metadata": {},
   "outputs": [],
   "source": [
    "def get_0_and_1_count(lines, position):\n",
    "    zero_count,one_count = 0,0\n",
    "    for line in lines:\n",
    "        if line[position] == '0':\n",
    "            zero_count += 1\n",
    "        elif line[position] == '1':\n",
    "            one_count += 1\n",
    "    return zero_count, one_count"
   ]
  },
  {
   "cell_type": "code",
   "execution_count": 103,
   "metadata": {},
   "outputs": [],
   "source": [
    "def binary_to_decimal(string):\n",
    "    return int(string, base=2)"
   ]
  },
  {
   "cell_type": "code",
   "execution_count": 104,
   "metadata": {},
   "outputs": [],
   "source": [
    "def switch_0_and_1(string):\n",
    "    return string.translate(str.maketrans({'0': '1', '1': '0'}))"
   ]
  },
  {
   "cell_type": "code",
   "execution_count": 105,
   "metadata": {},
   "outputs": [
    {
     "data": {
      "text/plain": [
       "4139586"
      ]
     },
     "execution_count": 105,
     "metadata": {},
     "output_type": "execute_result"
    }
   ],
   "source": [
    "gamma_rate = ''\n",
    "for position in range(len(lines[0])):\n",
    "    zero_count, one_count = get_0_and_1_count(lines, position)\n",
    "    gamma_rate += '1' if one_count > zero_count else '0'\n",
    "\n",
    "epsilon_rate = switch_0_and_1(gamma_rate)\n",
    "power_consumption = binary_to_decimal(gamma_rate) * binary_to_decimal(epsilon_rate)\n",
    "power_consumption"
   ]
  },
  {
   "cell_type": "markdown",
   "metadata": {},
   "source": [
    "## Part 2"
   ]
  },
  {
   "cell_type": "code",
   "execution_count": 106,
   "metadata": {},
   "outputs": [],
   "source": [
    "def calculate(lines, value1, value2):\n",
    "    position = 0\n",
    "    while len(lines) > 1:\n",
    "        zero_count, one_count = get_0_and_1_count(lines, position)\n",
    "        value_to_consider = value1 if one_count >= zero_count else value2\n",
    "        lines = [i for i in lines if i[position] == value_to_consider]\n",
    "        position += 1\n",
    "    return lines[0]"
   ]
  },
  {
   "cell_type": "code",
   "execution_count": 107,
   "metadata": {},
   "outputs": [
    {
     "name": "stdout",
     "output_type": "stream",
     "text": [
      "1800151\n"
     ]
    }
   ],
   "source": [
    "oxygen = calculate(lines, '1', '0')\n",
    "CO2 = calculate(lines, '0', '1')\n",
    "\n",
    "print(binary_to_decimal(oxygen) * binary_to_decimal(CO2))"
   ]
  }
 ],
 "metadata": {
  "interpreter": {
   "hash": "a9c4c2f267500ae1aa2f1d5bf1dadb6696be83754fdb9f12fd5e7483c55b9572"
  },
  "kernelspec": {
   "display_name": "Python 3.8.8 64-bit ('base': conda)",
   "language": "python",
   "name": "python3"
  },
  "language_info": {
   "codemirror_mode": {
    "name": "ipython",
    "version": 3
   },
   "file_extension": ".py",
   "mimetype": "text/x-python",
   "name": "python",
   "nbconvert_exporter": "python",
   "pygments_lexer": "ipython3",
   "version": "3.8.8"
  },
  "orig_nbformat": 4
 },
 "nbformat": 4,
 "nbformat_minor": 2
}
