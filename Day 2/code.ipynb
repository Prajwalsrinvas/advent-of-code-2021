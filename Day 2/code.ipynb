{
 "cells": [
  {
   "cell_type": "markdown",
   "metadata": {},
   "source": [
    "# Day 2"
   ]
  },
  {
   "cell_type": "code",
   "execution_count": 31,
   "metadata": {},
   "outputs": [],
   "source": [
    "# consume puzzle input\n",
    "with open('input.txt') as f:\n",
    "    puzzle_input_string = f.read()\n",
    "    puzzle_input_list = [i for i in puzzle_input_string.split('\\n') if i]"
   ]
  },
  {
   "cell_type": "markdown",
   "metadata": {},
   "source": [
    "## Problem 1"
   ]
  },
  {
   "cell_type": "code",
   "execution_count": 32,
   "metadata": {},
   "outputs": [],
   "source": [
    "horizontal_position = 0\n",
    "depth = 0\n",
    "\n",
    "for i in puzzle_input_list:\n",
    "    command, units = i.split()\n",
    "    units = int(units)\n",
    "    if command == 'forward':\n",
    "        horizontal_position += units\n",
    "    elif command == 'down':\n",
    "        depth += units\n",
    "    elif command == 'up':\n",
    "        depth -= units"
   ]
  },
  {
   "cell_type": "code",
   "execution_count": 33,
   "metadata": {},
   "outputs": [
    {
     "data": {
      "text/plain": [
       "1714950"
      ]
     },
     "execution_count": 33,
     "metadata": {},
     "output_type": "execute_result"
    }
   ],
   "source": [
    "horizontal_position*depth"
   ]
  },
  {
   "cell_type": "markdown",
   "metadata": {},
   "source": [
    "## Problem 2"
   ]
  },
  {
   "cell_type": "code",
   "execution_count": 34,
   "metadata": {},
   "outputs": [],
   "source": [
    "horizontal_position = 0\n",
    "depth = 0\n",
    "aim = 0\n",
    "\n",
    "for i in puzzle_input_list:\n",
    "    command, units = i.split()\n",
    "    units = int(units)\n",
    "    if command == 'forward':\n",
    "        horizontal_position += units\n",
    "        depth += units*aim\n",
    "    elif command == 'down':\n",
    "        aim += units\n",
    "    elif command == 'up':\n",
    "        aim -= units"
   ]
  },
  {
   "cell_type": "code",
   "execution_count": 35,
   "metadata": {},
   "outputs": [
    {
     "data": {
      "text/plain": [
       "1281977850"
      ]
     },
     "execution_count": 35,
     "metadata": {},
     "output_type": "execute_result"
    }
   ],
   "source": [
    "horizontal_position*depth\n"
   ]
  }
 ],
 "metadata": {
  "interpreter": {
   "hash": "a9c4c2f267500ae1aa2f1d5bf1dadb6696be83754fdb9f12fd5e7483c55b9572"
  },
  "kernelspec": {
   "display_name": "Python 3.8.8 64-bit ('base': conda)",
   "language": "python",
   "name": "python3"
  },
  "language_info": {
   "codemirror_mode": {
    "name": "ipython",
    "version": 3
   },
   "file_extension": ".py",
   "mimetype": "text/x-python",
   "name": "python",
   "nbconvert_exporter": "python",
   "pygments_lexer": "ipython3",
   "version": "3.8.8"
  },
  "orig_nbformat": 4
 },
 "nbformat": 4,
 "nbformat_minor": 2
}
