{
 "cells": [
  {
   "cell_type": "markdown",
   "id": "d08804ac",
   "metadata": {},
   "source": [
    "# Day 1"
   ]
  },
  {
   "cell_type": "markdown",
   "id": "5d20cfb5",
   "metadata": {},
   "source": [
    "## Problem 1"
   ]
  },
  {
   "cell_type": "code",
   "execution_count": 1,
   "id": "b4ee73d0",
   "metadata": {
    "ExecuteTime": {
     "end_time": "2021-12-01T12:11:59.940964Z",
     "start_time": "2021-12-01T12:11:57.195294Z"
    },
    "collapsed": true
   },
   "outputs": [],
   "source": [
    "# consume puzzle input\n",
    "with open('input.txt') as f:\n",
    "    puzzle_input_string = f.read()\n",
    "\n",
    "puzzle_input_list = [int(i) for i in puzzle_input_string.split() if i]"
   ]
  },
  {
   "cell_type": "code",
   "execution_count": 2,
   "id": "c0f712a2",
   "metadata": {
    "ExecuteTime": {
     "end_time": "2021-12-01T12:12:04.271800Z",
     "start_time": "2021-12-01T12:12:04.266818Z"
    }
   },
   "outputs": [],
   "source": [
    "def get_larger_than_previous_measurements_value(puzzle_input_list):\n",
    "    count = 0\n",
    "    for index, value in enumerate(puzzle_input_list[1:]):\n",
    "        if value > puzzle_input_list[index]:\n",
    "            count += 1\n",
    "    return count"
   ]
  },
  {
   "cell_type": "code",
   "execution_count": 3,
   "id": "0a175b54",
   "metadata": {
    "ExecuteTime": {
     "end_time": "2021-12-01T12:12:05.315139Z",
     "start_time": "2021-12-01T12:12:05.294089Z"
    }
   },
   "outputs": [
    {
     "data": {
      "text/plain": [
       "1482"
      ]
     },
     "execution_count": 3,
     "metadata": {},
     "output_type": "execute_result"
    }
   ],
   "source": [
    "get_larger_than_previous_measurements_value(puzzle_input_list)"
   ]
  },
  {
   "cell_type": "markdown",
   "id": "00435342",
   "metadata": {},
   "source": [
    "## Problem 2"
   ]
  },
  {
   "cell_type": "code",
   "execution_count": 4,
   "id": "7ea4c2c3",
   "metadata": {
    "ExecuteTime": {
     "end_time": "2021-12-01T12:12:08.655145Z",
     "start_time": "2021-12-01T12:12:08.633147Z"
    }
   },
   "outputs": [],
   "source": [
    "sliding_window_values = []\n",
    "start_index = 0\n",
    "end_index = 3\n",
    "while end_index <= len(puzzle_input_list):\n",
    "    sliding_window_values.append(sum(puzzle_input_list[start_index:end_index]))\n",
    "    start_index += 1\n",
    "    end_index += 1"
   ]
  },
  {
   "cell_type": "code",
   "execution_count": 5,
   "id": "65c1cf99",
   "metadata": {
    "ExecuteTime": {
     "end_time": "2021-12-01T12:12:09.732290Z",
     "start_time": "2021-12-01T12:12:09.709336Z"
    }
   },
   "outputs": [
    {
     "data": {
      "text/plain": [
       "1518"
      ]
     },
     "execution_count": 5,
     "metadata": {},
     "output_type": "execute_result"
    }
   ],
   "source": [
    "get_larger_than_previous_measurements_value(sliding_window_values)"
   ]
  }
 ],
 "metadata": {
  "kernelspec": {
   "display_name": "Python 3",
   "language": "python",
   "name": "python3"
  },
  "language_info": {
   "codemirror_mode": {
    "name": "ipython",
    "version": 3
   },
   "file_extension": ".py",
   "mimetype": "text/x-python",
   "name": "python",
   "nbconvert_exporter": "python",
   "pygments_lexer": "ipython3",
   "version": "3.8.8"
  },
  "varInspector": {
   "cols": {
    "lenName": 16,
    "lenType": 16,
    "lenVar": 40
   },
   "kernels_config": {
    "python": {
     "delete_cmd_postfix": "",
     "delete_cmd_prefix": "del ",
     "library": "var_list.py",
     "varRefreshCmd": "print(var_dic_list())"
    },
    "r": {
     "delete_cmd_postfix": ") ",
     "delete_cmd_prefix": "rm(",
     "library": "var_list.r",
     "varRefreshCmd": "cat(var_dic_list()) "
    }
   },
   "types_to_exclude": [
    "module",
    "function",
    "builtin_function_or_method",
    "instance",
    "_Feature"
   ],
   "window_display": false
  }
 },
 "nbformat": 4,
 "nbformat_minor": 5
}
