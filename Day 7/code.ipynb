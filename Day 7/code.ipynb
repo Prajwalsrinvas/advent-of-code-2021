{
 "cells": [
  {
   "cell_type": "markdown",
   "metadata": {},
   "source": [
    "# Day 7"
   ]
  },
  {
   "cell_type": "code",
   "execution_count": 1,
   "metadata": {
    "ExecuteTime": {
     "end_time": "2021-12-07T12:04:43.109795Z",
     "start_time": "2021-12-07T12:04:43.068287Z"
    }
   },
   "outputs": [],
   "source": [
    "from tqdm import tqdm"
   ]
  },
  {
   "cell_type": "code",
   "execution_count": 2,
   "metadata": {
    "ExecuteTime": {
     "end_time": "2021-12-07T12:04:43.125800Z",
     "start_time": "2021-12-07T12:04:43.116794Z"
    }
   },
   "outputs": [],
   "source": [
    "with open('input.txt') as f:\n",
    "    lst = [int(i) for i in f.readline().split(',')]"
   ]
  },
  {
   "cell_type": "markdown",
   "metadata": {},
   "source": [
    "## Part 1"
   ]
  },
  {
   "cell_type": "code",
   "execution_count": 3,
   "metadata": {
    "ExecuteTime": {
     "end_time": "2021-12-07T12:04:46.486350Z",
     "start_time": "2021-12-07T12:04:43.133795Z"
    }
   },
   "outputs": [
    {
     "name": "stderr",
     "output_type": "stream",
     "text": [
      "100%|█████████████████████████████████████████████████████████████████████████████████████████████████████████████████| 1937/1937 [00:03<00:00, 592.01it/s]\n"
     ]
    }
   ],
   "source": [
    "master = {}\n",
    "for i in tqdm(range(min(lst), max(lst)+1)):\n",
    "    count = 0\n",
    "    for j in lst:\n",
    "        count += abs(j-i)\n",
    "    master[count] = i"
   ]
  },
  {
   "cell_type": "code",
   "execution_count": 4,
   "metadata": {
    "ExecuteTime": {
     "end_time": "2021-12-07T12:04:46.517792Z",
     "start_time": "2021-12-07T12:04:46.492796Z"
    }
   },
   "outputs": [
    {
     "name": "stdout",
     "output_type": "stream",
     "text": [
      "Horizontal position: 333\n",
      "Fuel units: 348664\n"
     ]
    }
   ],
   "source": [
    "print(f'Horizontal position: {master[min(master)]}\\nFuel units: {min(master)}')"
   ]
  },
  {
   "cell_type": "markdown",
   "metadata": {},
   "source": [
    "## Part 2"
   ]
  },
  {
   "cell_type": "code",
   "execution_count": 5,
   "metadata": {
    "ExecuteTime": {
     "end_time": "2021-12-07T12:06:32.588050Z",
     "start_time": "2021-12-07T12:04:46.522794Z"
    }
   },
   "outputs": [
    {
     "name": "stderr",
     "output_type": "stream",
     "text": [
      "100%|██████████████████████████████████████████████████████████████████████████████████████████████████████████████████| 1937/1937 [01:46<00:00, 18.27it/s]\n"
     ]
    }
   ],
   "source": [
    "master = {}\n",
    "for i in tqdm(range(min(lst), max(lst)+1)):\n",
    "    count = 0\n",
    "    for j in lst:\n",
    "        n = abs(j-i)\n",
    "        count += sum(range(1, n+1))\n",
    "    master[count] = i"
   ]
  },
  {
   "cell_type": "code",
   "execution_count": 6,
   "metadata": {
    "ExecuteTime": {
     "end_time": "2021-12-07T12:06:32.618996Z",
     "start_time": "2021-12-07T12:06:32.596449Z"
    }
   },
   "outputs": [
    {
     "name": "stdout",
     "output_type": "stream",
     "text": [
      "Horizontal position: 479\n",
      "Fuel units: 100220525\n"
     ]
    }
   ],
   "source": [
    "print(f'Horizontal position: {master[min(master)]}\\nFuel units: {min(master)}')"
   ]
  },
  {
   "cell_type": "markdown",
   "metadata": {},
   "source": [
    "### slightly optimized\n",
    "\n",
    "replacing `sum(range(1, n+1))` with `(n*(n+1))/2` is slightly better."
   ]
  },
  {
   "cell_type": "code",
   "execution_count": 7,
   "metadata": {
    "ExecuteTime": {
     "end_time": "2021-12-07T12:06:34.148096Z",
     "start_time": "2021-12-07T12:06:32.624997Z"
    }
   },
   "outputs": [
    {
     "name": "stdout",
     "output_type": "stream",
     "text": [
      "159 µs ± 61.6 µs per loop (mean ± std. dev. of 7 runs, 1000 loops each)\n"
     ]
    }
   ],
   "source": [
    "%%timeit\n",
    "sum(range(1, n+1))"
   ]
  },
  {
   "cell_type": "code",
   "execution_count": 8,
   "metadata": {
    "ExecuteTime": {
     "end_time": "2021-12-07T12:06:41.483007Z",
     "start_time": "2021-12-07T12:06:34.154113Z"
    }
   },
   "outputs": [
    {
     "name": "stdout",
     "output_type": "stream",
     "text": [
      "889 ns ± 40 ns per loop (mean ± std. dev. of 7 runs, 1000000 loops each)\n"
     ]
    }
   ],
   "source": [
    "%%timeit\n",
    "(n*(n+1))/2"
   ]
  },
  {
   "cell_type": "code",
   "execution_count": 9,
   "metadata": {
    "ExecuteTime": {
     "end_time": "2021-12-07T12:06:46.550996Z",
     "start_time": "2021-12-07T12:06:41.495997Z"
    }
   },
   "outputs": [
    {
     "name": "stderr",
     "output_type": "stream",
     "text": [
      "100%|█████████████████████████████████████████████████████████████████████████████████████████████████████████████████| 1937/1937 [00:05<00:00, 386.47it/s]\n"
     ]
    }
   ],
   "source": [
    "master = {}\n",
    "for i in tqdm(range(min(lst), max(lst)+1)):\n",
    "    count = 0\n",
    "    for j in lst:\n",
    "        n = abs(j-i)\n",
    "        count += (n*(n+1))//2\n",
    "    master[count] = i"
   ]
  },
  {
   "cell_type": "code",
   "execution_count": 10,
   "metadata": {
    "ExecuteTime": {
     "end_time": "2021-12-07T12:06:46.614006Z",
     "start_time": "2021-12-07T12:06:46.557994Z"
    }
   },
   "outputs": [
    {
     "name": "stdout",
     "output_type": "stream",
     "text": [
      "Horizontal position: 479\n",
      "Fuel units: 100220525\n"
     ]
    }
   ],
   "source": [
    "print(f'Horizontal position: {master[min(master)]}\\nFuel units: {min(master)}')"
   ]
  }
 ],
 "metadata": {
  "interpreter": {
   "hash": "a9c4c2f267500ae1aa2f1d5bf1dadb6696be83754fdb9f12fd5e7483c55b9572"
  },
  "kernelspec": {
   "display_name": "Python 3",
   "language": "python",
   "name": "python3"
  },
  "language_info": {
   "codemirror_mode": {
    "name": "ipython",
    "version": 3
   },
   "file_extension": ".py",
   "mimetype": "text/x-python",
   "name": "python",
   "nbconvert_exporter": "python",
   "pygments_lexer": "ipython3",
   "version": "3.8.8"
  },
  "varInspector": {
   "cols": {
    "lenName": 16,
    "lenType": 16,
    "lenVar": 40
   },
   "kernels_config": {
    "python": {
     "delete_cmd_postfix": "",
     "delete_cmd_prefix": "del ",
     "library": "var_list.py",
     "varRefreshCmd": "print(var_dic_list())"
    },
    "r": {
     "delete_cmd_postfix": ") ",
     "delete_cmd_prefix": "rm(",
     "library": "var_list.r",
     "varRefreshCmd": "cat(var_dic_list()) "
    }
   },
   "types_to_exclude": [
    "module",
    "function",
    "builtin_function_or_method",
    "instance",
    "_Feature"
   ],
   "window_display": false
  }
 },
 "nbformat": 4,
 "nbformat_minor": 2
}
